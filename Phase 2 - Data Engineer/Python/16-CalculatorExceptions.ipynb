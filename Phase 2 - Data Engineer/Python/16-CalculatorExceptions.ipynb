{
 "cells": [
  {
   "cell_type": "markdown",
   "metadata": {},
   "source": [
    "# Discussion 16 - Exceptions Calculator"
   ]
  },
  {
   "cell_type": "code",
   "execution_count": null,
   "metadata": {},
   "outputs": [],
   "source": [
    "# create a class\n",
    "class Calculator():\n",
    "    def power(n,p):\n",
    "        if n < 0 or p < 0:\n",
    "            # raise exception (if custom exception created we could raise that)\n",
    "            raise Exception(\"n and p should be non-negative\")\n",
    "        else:\n",
    "            return n**p\n",
    "            \n",
    "\n",
    "# given code\n",
    "if __name__ == \"__main__\":\n",
    "    myCalculator=Calculator()\n",
    "    T=int(input(\"Enter the total operations: \"))\n",
    "    for i in range(T):\n",
    "        n,p = map(int, input(\"Enter numbers to operate n^p (separated by a space 'n p'): \").split())\n",
    "        try:\n",
    "            ans=myCalculator.power(n,p)\n",
    "            print(ans)\n",
    "        except Exception as e:\n",
    "            print(e) "
   ]
  }
 ],
 "metadata": {
  "language_info": {
   "name": "python"
  },
  "orig_nbformat": 4
 },
 "nbformat": 4,
 "nbformat_minor": 2
}
