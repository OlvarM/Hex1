{
 "cells": [
  {
   "cell_type": "markdown",
   "metadata": {},
   "source": [
    "# Discussion 18 - Alphabet Rangoli"
   ]
  },
  {
   "cell_type": "code",
   "execution_count": 53,
   "metadata": {},
   "outputs": [
    {
     "name": "stdout",
     "output_type": "stream",
     "text": [
      "----------f----------\n",
      "---------f----------\n",
      "--------f-e-f--------\n",
      "------f-e-d-e-f------\n",
      "----f-e-d-c-d-e-f----\n",
      "--f-e-d-c-b-c-d-e-f--\n",
      "f-e-d-c-b-a-b-c-d-e-f\n",
      "--f-e-d-c-b-c-d-e-f--\n",
      "----f-e-d-c-d-e-f----\n",
      "------f-e-d-e-f------\n",
      "--------f-e-f--------\n",
      "----------f----------\n"
     ]
    }
   ],
   "source": [
    "# Rangoli\n",
    "def print_rangoli(size):\n",
    "    # pool of letter to pick by index\n",
    "    alphabet = \"abcdefghijklmnopqrstuvwxyz\"\n",
    "    hyphen = \"-\"\n",
    "    rangoli = []\n",
    "\n",
    "    # top string\n",
    "    top = f\"{hyphen*(size*2)}{alphabet[size]}{hyphen*(size*2)}\"\n",
    "    maxLen = len(top)\n",
    "    \n",
    "    # append to rangoli\n",
    "    rangoli.append(top)\n",
    "    # create strips\n",
    "    # print(top)\n",
    "    for j in range(-size,size):\n",
    "        mid = ''.join([alphabet[i]+\"-\" for i in range(size,-1+abs(j),-1)])\n",
    "        newMid = mid+mid[-4::-1]\n",
    "        extraHyphen = maxLen - len(newMid)\n",
    "        # fill with hyphens\n",
    "        print(hyphen*(extraHyphen//2) + newMid + hyphen*(extraHyphen//2))\n",
    "    print(top)\n",
    "\n",
    "\n",
    "\n",
    "    # for i in range(size):\n",
    "        # mid.append()\n",
    "\n",
    "if __name__ == '__main__':\n",
    "    n = int(input(\"Enter size of the rangoli alphabet: \"))\n",
    "    print_rangoli(n)"
   ]
  },
  {
   "cell_type": "code",
   "execution_count": 3,
   "metadata": {},
   "outputs": [
    {
     "name": "stdout",
     "output_type": "stream",
     "text": [
      "\n"
     ]
    }
   ],
   "source": [
    "hyphen = \"-\"\n",
    "print(hyphen*0)"
   ]
  }
 ],
 "metadata": {
  "kernelspec": {
   "display_name": "Python 3.9.7 64-bit",
   "language": "python",
   "name": "python3"
  },
  "language_info": {
   "codemirror_mode": {
    "name": "ipython",
    "version": 3
   },
   "file_extension": ".py",
   "mimetype": "text/x-python",
   "name": "python",
   "nbconvert_exporter": "python",
   "pygments_lexer": "ipython3",
   "version": "3.9.7"
  },
  "orig_nbformat": 4,
  "vscode": {
   "interpreter": {
    "hash": "ef8e66641ffa9f38ae8031a3eed4cd7795c398e85cd67311476beecd9e57b692"
   }
  }
 },
 "nbformat": 4,
 "nbformat_minor": 2
}
