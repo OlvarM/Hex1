{
 "cells": [
  {
   "cell_type": "markdown",
   "metadata": {},
   "source": [
    "# Discussion 15 - String to Int"
   ]
  },
  {
   "cell_type": "code",
   "execution_count": null,
   "metadata": {},
   "outputs": [],
   "source": [
    "# string to int using exception handling\n",
    "def main():\n",
    "    try:\n",
    "        print(int(input(\"Enter a number: \")))\n",
    "    except:\n",
    "        print(\"Bad Number\")\n",
    "\n",
    "if __name__ == \"__main__\":\n",
    "    main()"
   ]
  }
 ],
 "metadata": {
  "kernelspec": {
   "display_name": "Python 3.9.7 64-bit",
   "language": "python",
   "name": "python3"
  },
  "language_info": {
   "name": "python",
   "version": "3.9.7"
  },
  "orig_nbformat": 4,
  "vscode": {
   "interpreter": {
    "hash": "ef8e66641ffa9f38ae8031a3eed4cd7795c398e85cd67311476beecd9e57b692"
   }
  }
 },
 "nbformat": 4,
 "nbformat_minor": 2
}
