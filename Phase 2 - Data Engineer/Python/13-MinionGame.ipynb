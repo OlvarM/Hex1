{
 "cells": [
  {
   "cell_type": "markdown",
   "metadata": {},
   "source": [
    "# Discussion 13 - Minion Game"
   ]
  },
  {
   "cell_type": "code",
   "execution_count": 59,
   "metadata": {},
   "outputs": [
    {
     "name": "stdout",
     "output_type": "stream",
     "text": [
      "NANA AN BA ANAN BAN N BANAN BANANA NAN B A ANA ANANA BANA NA\n",
      "['AN', 'ANAN', 'ANA', 'A', 'ANANA'] ['NANA', 'BA', 'N', 'BAN', 'BANAN', 'NAN', 'BANANA', 'B', 'BANA', 'NA']\n",
      "Stuart wins with 12 points!\n"
     ]
    }
   ],
   "source": [
    "# substring game\n",
    "import re\n",
    "\n",
    "def main():\n",
    "    stuartScore = 0\n",
    "    kevinScore = 0\n",
    "\n",
    "\n",
    "    word = input(\"Enter a word (UPPERCASE): \")\n",
    "    \n",
    "    # generate all substrings using list comprehension\n",
    "    subString = [word[i:j] for i in range(len(word)) for j in range(i+1,len(word)+1)]\n",
    "\n",
    "    # join the list of substrings to a string to use regex\n",
    "    # join from set to remove duplicates\n",
    "    joinSubs = ' '.join(set(subString))\n",
    "\n",
    "    # separate subStrings for Stuart (starting with consonant) and Kevin (starting with vowel)\n",
    "    kevinSub = list(set(re.findall(\"[AEIOU]\\w*\",joinSubs)))\n",
    "    stuartSub = list(set(re.findall(\"[^AEIOU ]\\w*\",joinSubs)))\n",
    "    # problem with the spaces in the string, list(set()) to delete duplicates\n",
    "    \n",
    "    # print(re.findall(\"[AEIOU]\\w+\",joinSubs))\n",
    "    # print(joinSubs)\n",
    "    # print(kevinSub,stuartSub)\n",
    "\n",
    "    # Counting points\n",
    "    for sub in kevinSub:\n",
    "        count = word.count(sub)\n",
    "        kevinScore += count\n",
    "    \n",
    "    for sub in stuartSub:\n",
    "        count = word.count(sub)  \n",
    "        stuartScore += count\n",
    "    \n",
    "    # winner\n",
    "    if kevinScore > stuartScore:\n",
    "        print(f\"Kevin wins with {kevinScore} points!\")\n",
    "    elif kevinScore == stuartScore:\n",
    "        print(\"Draw\")\n",
    "        print(f\"Kevin got {kevinScore} points!\")\n",
    "        print(f\"Stuart got {stuartScore} points!\")\n",
    "    else:\n",
    "        print(f\"Stuart wins with {stuartScore} points!\")\n",
    "\n",
    "# run main\n",
    "if __name__ == \"__main__\":\n",
    "    main()"
   ]
  },
  {
   "cell_type": "code",
   "execution_count": null,
   "metadata": {},
   "outputs": [],
   "source": []
  }
 ],
 "metadata": {
  "kernelspec": {
   "display_name": "Python 3.10.7 64-bit",
   "language": "python",
   "name": "python3"
  },
  "language_info": {
   "codemirror_mode": {
    "name": "ipython",
    "version": 3
   },
   "file_extension": ".py",
   "mimetype": "text/x-python",
   "name": "python",
   "nbconvert_exporter": "python",
   "pygments_lexer": "ipython3",
   "version": "3.10.7"
  },
  "orig_nbformat": 4,
  "vscode": {
   "interpreter": {
    "hash": "ba288ba8dcaeb6414279117d77e0b2fa844cb9296c146f4d786ad8b9ed202e4d"
   }
  }
 },
 "nbformat": 4,
 "nbformat_minor": 2
}
