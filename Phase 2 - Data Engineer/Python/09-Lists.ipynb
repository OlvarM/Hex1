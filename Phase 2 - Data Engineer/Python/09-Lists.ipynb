{
 "cells": [
  {
   "cell_type": "code",
   "execution_count": 29,
   "metadata": {},
   "outputs": [
    {
     "name": "stdout",
     "output_type": "stream",
     "text": [
      "('non', 2)\n",
      "('malesuada', 2)\n",
      "('augue', 2)\n",
      "('donec', 2)\n",
      "('ac', 2)\n",
      "('accumsan', 2)\n",
      "('nunc', 2)\n",
      "('risus', 2)\n",
      "('auctor', 2)\n",
      "('morbi', 2)\n"
     ]
    }
   ],
   "source": [
    "# 1. find occurrences of the 10 most common words\n",
    "import re\n",
    "\n",
    "def main():\n",
    "    # input text\n",
    "    text = \"Lorem ipsum dolor sit amet, consectetur adipiscing elit. Aliquam non malesuada augue. Donec efficitur ac mi tempus congue. Sed id scelerisque ligula, quis accumsan odio. Nunc rhoncus, risus at imperdiet maximus, nunc sem auctor risus, nec laoreet augue massa vel orci. Pellentesque habitant morbi tristique senectus et netus et malesuada fames ac turpis egestas. Donec non placerat arcu, eget pretium mauris. Vestibulum tempor tellus accumsan auctor porta. Morbi convallis lectus ullamcorper rutrum pretium.\"\n",
    "\n",
    "    # divide text using multiple delimiters\n",
    "    lst = re.split(\",| \",text)\n",
    "    # delete empty strings and clean dots\n",
    "    lst = [word.replace(\".\",\"\").lower() for word in lst if word]\n",
    "\n",
    "    # count each unique word occurrence\n",
    "    text_count = {}\n",
    "    for word in lst:\n",
    "        if word in text_count:\n",
    "            text_count[word] += 1\n",
    "        else:\n",
    "            text_count[word] = 1\n",
    "    \n",
    "    # find top 10 most common words using sort by values\n",
    "    sorted_text = {key: value for key,value in sorted(text_count.items(), key=lambda item:item[1], reverse=True)}\n",
    "    \n",
    "    # print first 10 words\n",
    "    i = 1\n",
    "    while i < 10:\n",
    "        for k,v in sorted_text.items():\n",
    "            if i > 10: break\n",
    "            print(f\"('{k}', {v})\")\n",
    "            i += 1\n",
    "            \n",
    "\n",
    "# run main\n",
    "main()"
   ]
  },
  {
   "cell_type": "code",
   "execution_count": 35,
   "metadata": {},
   "outputs": [
    {
     "name": "stdout",
     "output_type": "stream",
     "text": [
      "['History 60', 'Spanish 100', 'Math 80']\n"
     ]
    }
   ],
   "source": [
    "# 2. number of subjects, subjects names and marks\n",
    "def main():\n",
    "    # input number of subjects\n",
    "    nSubject = int(input(\"Number of subjects\"))\n",
    "\n",
    "    subjects = []\n",
    "    for i in range(nSubject):\n",
    "        # add subject's names and marks\n",
    "        subjMarks = input(\"Enter subject's name and marks: (ex. Math 98)\")\n",
    "        subjects.append(subjMarks)\n",
    "    \n",
    "    # show subjects and marks in order of its first occurrence\n",
    "    subjects.reverse()\n",
    "    print(subjects, sep=\"\\n\")\n",
    "\n",
    "#run main\n",
    "main()"
   ]
  },
  {
   "cell_type": "code",
   "execution_count": 50,
   "metadata": {},
   "outputs": [
    {
     "name": "stdout",
     "output_type": "stream",
     "text": [
      "2022-9-12 \n",
      "09:30:44 AM\n"
     ]
    }
   ],
   "source": [
    "# 3. year, month, day and time using lambda\n",
    "import  datetime\n",
    "def main():\n",
    "    date = datetime.datetime.now()\n",
    "\n",
    "    # using lambda\n",
    "    year = lambda x: x.year\n",
    "    month = lambda x: x.month\n",
    "    day = lambda x: x.day\n",
    "    \n",
    "    # special format using strftime()\n",
    "    time = lambda x: x.time().strftime(\"%H:%M:%S %p\")\n",
    "\n",
    "    # print date\n",
    "    print(f\"{year(date)}-{month(date)}-{day(date)} \\n{time(date)}\")\n",
    "    # remember that these are lambda expressions and need 'date' as input\n",
    "\n",
    "\n",
    "# run main\n",
    "main()"
   ]
  },
  {
   "cell_type": "code",
   "execution_count": 74,
   "metadata": {},
   "outputs": [
    {
     "name": "stdout",
     "output_type": "stream",
     "text": [
      "Number of students: 4\n",
      "Names and grades of all students: \n",
      "[['Juan', 1], ['Mary', 2], ['Pepe', 1], ['Andrea', 3]]\n",
      "Second lowest grade: 2 \n",
      "Name: Mary\n"
     ]
    }
   ],
   "source": [
    "#4. second lowest grade\n",
    "def main():\n",
    "    # number of students\n",
    "    # nStudents = int(input(\"Enter number of students: \"))\n",
    "    print(f\"Number of students: {4}\")\n",
    "\n",
    "    # lambda to save names and grades\n",
    "    namesGrades = [[\"Juan\",1],[\"Mary\",2],[\"Pepe\",1],[\"Andrea\",3]]\n",
    "    # for i in range(nStudents):\n",
    "    #     name = input(\"Enter student Name: \")\n",
    "    #     grade = int(input(f\"Enter {name} grade: \"))\n",
    "    #     namesGrades.append([name,grade])\n",
    "    \n",
    "    # display whole list\n",
    "    print(F\"Names and grades of all students: \\n{namesGrades}\")\n",
    "\n",
    "    # get second lowest grade\n",
    "    lowest = min(namesGrades , key=lambda value:namesGrades[1])[1]\n",
    "    # remove all instances of lowest\n",
    "    namesGrades = [x for x in namesGrades if x[1] != lowest]\n",
    "    # print second lowest grade\n",
    "    secondLowest = min(namesGrades, key= lambda value:namesGrades[1])\n",
    "    print(f\"Second lowest grade: {secondLowest[1]} \\nName: {secondLowest[0]}\")\n",
    "\n",
    "\n",
    "\n",
    "\n",
    "#run main\n",
    "main()"
   ]
  },
  {
   "cell_type": "code",
   "execution_count": 56,
   "metadata": {},
   "outputs": [
    {
     "name": "stdout",
     "output_type": "stream",
     "text": [
      "black-blue-green-red-white\n"
     ]
    }
   ],
   "source": [
    "# 5. hyphen-separated words\n",
    "def main():\n",
    "    # input\n",
    "    # text = input(\"Enter hyphen-separated text:\")\n",
    "\n",
    "    # test text\n",
    "    text = \"green-blue-red-black-white\"\n",
    "\n",
    "    # separate, sort and join\n",
    "    text = \"-\".join(sorted(text.split(\"-\")))\n",
    "\n",
    "    # print hyphen-separated sorted text\n",
    "    print(text)\n",
    "\n",
    "\n",
    "#run main\n",
    "main()"
   ]
  },
  {
   "cell_type": "code",
   "execution_count": 78,
   "metadata": {},
   "outputs": [
    {
     "name": "stdout",
     "output_type": "stream",
     "text": [
      "[['european', 'languages', 'members', 'family'], ['separate', 'existence', 'myth'], ['science', 'music', 'sport', 'europe', 'vocabulary'], ['languages', 'differ', 'grammar', 'pronunciation', 'common', 'words'], ['realizes', 'new', 'common', 'language', 'desirable', 'refuse', 'pay', 'expensive', 'translators'], ['achieve', 'necessary', 'uniform', 'grammar', 'pronunciation', 'common', 'words'], ['languages', 'coalesce', 'grammar', 'resulting', 'language', 'simple', 'regular', 'individual', 'languages'], ['new', 'common', 'language', 'simple', 'regular', 'existing', 'european', 'languages'], ['simple', 'occidental', 'fact', 'occidental']]\n"
     ]
    }
   ],
   "source": [
    "# function to remove stop words in strings or paragraphs\n",
    "import re\n",
    "def removeStopWords(text):\n",
    "    \"\"\"\n",
    "    text type: string\n",
    "    return type: list[string]\n",
    "    \"\"\"\n",
    "    \n",
    "    # list of stop words\n",
    "    stopWords = \"a about above across after afterwards again against all almost alone along also although always am among amount an and another any anyhow anyone anything anyway anywhere are around as at back be became because become becomes been being below beside besides between beyond both but by came can cant cannot come could couldnt describe did didnt do does doesnt doing done dont due during each either else elsewhere enough etc even ever every everyone everything everywhere few for from further get give goes going had happen has hasnt have having here how however i if ill im in into is isnt it its ive just keep let like made make many may me mean might mine more most mostly much name next no nobody not nothing now of once only onto or other others otherwise our over per perhaps please put rather re really same say see seem seemed seeming seems several should show side since so some somehow someone something sometime sometimes somewhere still such take tell than that the then their them then there these they thing this those through throughout to together too try un up upon us use used uses very want was way we well were what whatever when where wherever whether which who whoever whole whom whose why will with within without wont would you your youre yours yourself\"\n",
    "    # make string into list\n",
    "    text = re.split(\" |,|;|:\",text)\n",
    "    # delete empty strings and clean dots\n",
    "    text = [word.replace(\".\",\"\").lower() for word in text if word]\n",
    "    # remove all stop words\n",
    "    text = [word for word in text if word not in stopWords]\n",
    "\n",
    "    # return new text\n",
    "    return text\n",
    "\n",
    "def main():\n",
    "    # input paragraph\n",
    "    # text = input(\"Enter paragraph to delete stop words:\")\n",
    "\n",
    "    # sample english lorem ipsum\n",
    "    text = \"The European languages are members of the same family. Their separate existence is a myth. For science, music, sport, etc, Europe uses the same vocabulary. The languages only differ in their grammar, their pronunciation and their most common words. Everyone realizes why a new common language would be desirable: one could refuse to pay expensive translators. To achieve this, it would be necessary to have uniform grammar, pronunciation and more common words. If several languages coalesce, the grammar of the resulting language is more simple and regular than that of the individual languages. The new common language will be more simple and regular than the existing European languages. It will be as simple as Occidental; in fact, it will be Occidental.\"\n",
    "\n",
    "    # separate sentences\n",
    "    text = text.split(\".\")\n",
    "\n",
    "    nonStopText = []\n",
    "    # remove stop words from each sentence\n",
    "    for sentence in text:\n",
    "        # removeStopWords (input: string, return: list)\n",
    "        nonStopText.append(removeStopWords(sentence))\n",
    "    \n",
    "    # clean empty lists\n",
    "    nonStopText = [x for x in nonStopText if x]\n",
    "    print(nonStopText)\n",
    "\n",
    "\n",
    "\n",
    "# run main\n",
    "main()"
   ]
  },
  {
   "cell_type": "markdown",
   "metadata": {},
   "source": [
    "# Discussion 9 - List Comprehension"
   ]
  },
  {
   "cell_type": "code",
   "execution_count": 81,
   "metadata": {},
   "outputs": [
    {
     "name": "stdout",
     "output_type": "stream",
     "text": [
      "[8, 16, 24, 32, 40, 48, 56, 64, 72, 80, 88, 96, 104, 112, 120, 128, 136, 144, 152, 160, 168, 176, 184, 192, 200, 208, 216, 224, 232, 240, 248, 256, 264, 272, 280, 288, 296, 304, 312, 320, 328, 336, 344, 352, 360, 368, 376, 384, 392, 400, 408, 416, 424, 432, 440, 448, 456, 464, 472, 480, 488, 496, 504, 512, 520, 528, 536, 544, 552, 560, 568, 576, 584, 592, 600, 608, 616, 624, 632, 640, 648, 656, 664, 672, 680, 688, 696, 704, 712, 720, 728, 736, 744, 752, 760, 768, 776, 784, 792, 800, 808, 816, 824, 832, 840, 848, 856, 864, 872, 880, 888, 896, 904, 912, 920, 928, 936, 944, 952, 960, 968, 976, 984, 992, 1000]\n"
     ]
    }
   ],
   "source": [
    "# divisable by 8 range(1,1000) \n",
    "def main():\n",
    "    # using list comprehension\n",
    "    divisable8 = [num for num in range(1,1000+1) if num%8 == 0]\n",
    "    print(divisable8)\n",
    "\n",
    "#run main\n",
    "main()"
   ]
  },
  {
   "cell_type": "code",
   "execution_count": 83,
   "metadata": {},
   "outputs": [
    {
     "name": "stdout",
     "output_type": "stream",
     "text": [
      "[6, 16, 26, 36, 46, 56, 60, 61, 62, 63, 64, 65, 66, 67, 68, 69, 76, 86, 96, 106, 116, 126, 136, 146, 156, 160, 161, 162, 163, 164, 165, 166, 167, 168, 169, 176, 186, 196, 206, 216, 226, 236, 246, 256, 260, 261, 262, 263, 264, 265, 266, 267, 268, 269, 276, 286, 296, 306, 316, 326, 336, 346, 356, 360, 361, 362, 363, 364, 365, 366, 367, 368, 369, 376, 386, 396, 406, 416, 426, 436, 446, 456, 460, 461, 462, 463, 464, 465, 466, 467, 468, 469, 476, 486, 496, 506, 516, 526, 536, 546, 556, 560, 561, 562, 563, 564, 565, 566, 567, 568, 569, 576, 586, 596, 600, 601, 602, 603, 604, 605, 606, 607, 608, 609, 610, 611, 612, 613, 614, 615, 616, 617, 618, 619, 620, 621, 622, 623, 624, 625, 626, 627, 628, 629, 630, 631, 632, 633, 634, 635, 636, 637, 638, 639, 640, 641, 642, 643, 644, 645, 646, 647, 648, 649, 650, 651, 652, 653, 654, 655, 656, 657, 658, 659, 660, 661, 662, 663, 664, 665, 666, 667, 668, 669, 670, 671, 672, 673, 674, 675, 676, 677, 678, 679, 680, 681, 682, 683, 684, 685, 686, 687, 688, 689, 690, 691, 692, 693, 694, 695, 696, 697, 698, 699, 706, 716, 726, 736, 746, 756, 760, 761, 762, 763, 764, 765, 766, 767, 768, 769, 776, 786, 796, 806, 816, 826, 836, 846, 856, 860, 861, 862, 863, 864, 865, 866, 867, 868, 869, 876, 886, 896, 906, 916, 926, 936, 946, 956, 960, 961, 962, 963, 964, 965, 966, 967, 968, 969, 976, 986, 996]\n"
     ]
    }
   ],
   "source": [
    "# all numbers with a 6\n",
    "def main():\n",
    "    #list comprehension\n",
    "    digit6 = [num for num in range(1,1000+1) if '6' in str(num)]\n",
    "    print(digit6)\n",
    "\n",
    "if __name__== \"__main__\":\n",
    "    main()"
   ]
  },
  {
   "cell_type": "code",
   "execution_count": 85,
   "metadata": {},
   "outputs": [
    {
     "name": "stdout",
     "output_type": "stream",
     "text": [
      "4\n"
     ]
    }
   ],
   "source": [
    "# count spaces\n",
    "def main():\n",
    "    string = input(\"Enter some string: \")\n",
    "    spaces = [s for s in string if s == \" \"]\n",
    "    print(len(spaces))\n",
    "\n",
    "if __name__ == \"__main__\":\n",
    "    main()"
   ]
  },
  {
   "cell_type": "code",
   "execution_count": 90,
   "metadata": {},
   "outputs": [
    {
     "name": "stdout",
     "output_type": "stream",
     "text": [
      "ths s sm wrds\n"
     ]
    }
   ],
   "source": [
    "# remove vowels\n",
    "def main():\n",
    "    string = input(\"String with vowels: \")\n",
    "    noVowels = [s for s in string if s not in \"aeiou\"]\n",
    "\n",
    "    print(''.join(noVowels))\n",
    "\n",
    "if __name__ == \"__main__\":\n",
    "    main()"
   ]
  },
  {
   "cell_type": "code",
   "execution_count": 92,
   "metadata": {},
   "outputs": [
    {
     "name": "stdout",
     "output_type": "stream",
     "text": [
      "this are some that been\n"
     ]
    }
   ],
   "source": [
    "# words less than 5 letters\n",
    "def main():\n",
    "    string = input(\"Some string with words\")\n",
    "    shortWords = [word for word in string.split(\" \") if len(word) < 5]\n",
    "    print(' '.join(shortWords))\n",
    "\n",
    "if __name__ ==\"__main__\":\n",
    "    main()"
   ]
  },
  {
   "cell_type": "code",
   "execution_count": 95,
   "metadata": {},
   "outputs": [
    {
     "name": "stdout",
     "output_type": "stream",
     "text": [
      "{'This': 4, 'is': 2, 'a': 1, 'sentence': 8}\n"
     ]
    }
   ],
   "source": [
    "# word length in sentence using dictionary comprehension\n",
    "def main():\n",
    "    sentence = input(\"Enter a sentence: \")\n",
    "    # delete punctiations\n",
    "    sentence = sentence.translate({ord(i): None for i in '.,;?!:'})\n",
    "    wordLen = {word: len(word) for word in sentence.split(\" \")}\n",
    "    print(wordLen)\n",
    "\n",
    "if __name__ == \"__main__\":\n",
    "    main()"
   ]
  },
  {
   "cell_type": "code",
   "execution_count": 99,
   "metadata": {},
   "outputs": [
    {
     "name": "stdout",
     "output_type": "stream",
     "text": [
      "{2, 3, 4, 5, 6, 7, 8, 9, 10, 12, 14, 15, 16, 18, 20, 21, 22, 24, 25, 26, 27, 28, 30, 32, 33, 34, 35, 36, 38, 39, 40, 42, 44, 45, 46, 48, 49, 50, 51, 52, 54, 55, 56, 57, 58, 60, 62, 63, 64, 65, 66, 68, 69, 70, 72, 74, 75, 76, 77, 78, 80, 81, 82, 84, 85, 86, 87, 88, 90, 91, 92, 93, 94, 95, 96, 98, 99, 100, 102, 104, 105, 106, 108, 110, 111, 112, 114, 115, 116, 117, 118, 119, 120, 122, 123, 124, 125, 126, 128, 129, 130, 132, 133, 134, 135, 136, 138, 140, 141, 142, 144, 145, 146, 147, 148, 150, 152, 153, 154, 155, 156, 158, 159, 160, 161, 162, 164, 165, 166, 168, 170, 171, 172, 174, 175, 176, 177, 178, 180, 182, 183, 184, 185, 186, 188, 189, 190, 192, 194, 195, 196, 198, 200, 201, 202, 203, 204, 205, 206, 207, 208, 210, 212, 213, 214, 215, 216, 217, 218, 219, 220, 222, 224, 225, 226, 228, 230, 231, 232, 234, 235, 236, 237, 238, 240, 242, 243, 244, 245, 246, 248, 249, 250, 252, 254, 255, 256, 258, 259, 260, 261, 262, 264, 265, 266, 267, 268, 270, 272, 273, 274, 275, 276, 278, 279, 280, 282, 284, 285, 286, 287, 288, 290, 291, 292, 294, 295, 296, 297, 298, 300, 301, 302, 303, 304, 305, 306, 308, 309, 310, 312, 314, 315, 316, 318, 320, 321, 322, 324, 325, 326, 327, 328, 329, 330, 332, 333, 334, 335, 336, 338, 339, 340, 342, 343, 344, 345, 346, 348, 350, 351, 352, 354, 355, 356, 357, 358, 360, 362, 363, 364, 365, 366, 368, 369, 370, 371, 372, 374, 375, 376, 378, 380, 381, 382, 384, 385, 386, 387, 388, 390, 392, 393, 394, 395, 396, 398, 399, 400, 402, 404, 405, 406, 408, 410, 411, 412, 413, 414, 415, 416, 417, 418, 420, 422, 423, 424, 425, 426, 427, 428, 429, 430, 432, 434, 435, 436, 438, 440, 441, 442, 444, 445, 446, 447, 448, 450, 452, 453, 454, 455, 456, 458, 459, 460, 462, 464, 465, 466, 468, 469, 470, 471, 472, 474, 475, 476, 477, 478, 480, 482, 483, 484, 485, 486, 488, 489, 490, 492, 494, 495, 496, 497, 498, 500, 501, 502, 504, 505, 506, 507, 508, 510, 511, 512, 513, 514, 515, 516, 518, 519, 520, 522, 524, 525, 526, 528, 530, 531, 532, 534, 535, 536, 537, 538, 539, 540, 542, 543, 544, 545, 546, 548, 549, 550, 552, 553, 554, 555, 556, 558, 560, 561, 562, 564, 565, 566, 567, 568, 570, 572, 573, 574, 575, 576, 578, 579, 580, 581, 582, 584, 585, 586, 588, 590, 591, 592, 594, 595, 596, 597, 598, 600, 602, 603, 604, 605, 606, 608, 609, 610, 612, 614, 615, 616, 618, 620, 621, 622, 623, 624, 625, 626, 627, 628, 630, 632, 633, 634, 635, 636, 637, 638, 639, 640, 642, 644, 645, 646, 648, 650, 651, 652, 654, 655, 656, 657, 658, 660, 662, 663, 664, 665, 666, 668, 669, 670, 672, 674, 675, 676, 678, 679, 680, 681, 682, 684, 685, 686, 687, 688, 690, 692, 693, 694, 695, 696, 698, 699, 700, 702, 704, 705, 706, 707, 708, 710, 711, 712, 714, 715, 716, 717, 718, 720, 721, 722, 723, 724, 725, 726, 728, 729, 730, 732, 734, 735, 736, 738, 740, 741, 742, 744, 745, 746, 747, 748, 749, 750, 752, 753, 754, 755, 756, 758, 759, 760, 762, 763, 764, 765, 766, 768, 770, 771, 772, 774, 775, 776, 777, 778, 780, 782, 783, 784, 785, 786, 788, 789, 790, 791, 792, 794, 795, 796, 798, 800, 801, 802, 804, 805, 806, 807, 808, 810, 812, 813, 814, 815, 816, 818, 819, 820, 822, 824, 825, 826, 828, 830, 831, 832, 833, 834, 835, 836, 837, 838, 840, 842, 843, 844, 845, 846, 847, 848, 849, 850, 852, 854, 855, 856, 858, 860, 861, 862, 864, 865, 866, 867, 868, 870, 872, 873, 874, 875, 876, 878, 879, 880, 882, 884, 885, 886, 888, 889, 890, 891, 892, 894, 895, 896, 897, 898, 900, 902, 903, 904, 905, 906, 908, 909, 910, 912, 914, 915, 916, 917, 918, 920, 921, 922, 924, 925, 926, 927, 928, 930, 931, 932, 933, 934, 935, 936, 938, 939, 940, 942, 944, 945, 946, 948, 950, 951, 952, 954, 955, 956, 957, 958, 959, 960, 962, 963, 964, 965, 966, 968, 969, 970, 972, 973, 974, 975, 976, 978, 980, 981, 982, 984, 985, 986, 987, 988, 990, 992, 993, 994, 995, 996, 998, 999, 1000}\n"
     ]
    }
   ],
   "source": [
    "# find all numbers divisible by any digit besides 1 [2-9]\n",
    "def main():\n",
    "    # nested list comprehension\n",
    "    divisibles = set([x for x in range(1,1000+1) for i in range(2,10) if x%i == 0 ])\n",
    "    print(divisibles)\n",
    "\n",
    "if __name__ == \"__main__\":\n",
    "    main()"
   ]
  },
  {
   "cell_type": "code",
   "execution_count": 101,
   "metadata": {},
   "outputs": [
    {
     "name": "stdout",
     "output_type": "stream",
     "text": [
      "{2: 2, 3: 3, 4: 4, 5: 5, 6: 6, 7: 7, 8: 8, 9: 9, 10: 5, 12: 6, 14: 7, 15: 5, 16: 8, 18: 9, 20: 5, 21: 7, 22: 2, 24: 8, 25: 5, 26: 2, 27: 9, 28: 7, 30: 6, 32: 8, 33: 3, 34: 2, 35: 7, 36: 9, 38: 2, 39: 3, 40: 8, 42: 7, 44: 4, 45: 9, 46: 2, 48: 8, 49: 7, 50: 5, 51: 3, 52: 4, 54: 9, 55: 5, 56: 8, 57: 3, 58: 2, 60: 6, 62: 2, 63: 9, 64: 8, 65: 5, 66: 6, 68: 4, 69: 3, 70: 7, 72: 9, 74: 2, 75: 5, 76: 4, 77: 7, 78: 6, 80: 8, 81: 9, 82: 2, 84: 7, 85: 5, 86: 2, 87: 3, 88: 8, 90: 9, 91: 7, 92: 4, 93: 3, 94: 2, 95: 5, 96: 8, 98: 7, 99: 9, 100: 5, 102: 6, 104: 8, 105: 7, 106: 2, 108: 9, 110: 5, 111: 3, 112: 8, 114: 6, 115: 5, 116: 4, 117: 9, 118: 2, 119: 7, 120: 8, 122: 2, 123: 3, 124: 4, 125: 5, 126: 9, 128: 8, 129: 3, 130: 5, 132: 6, 133: 7, 134: 2, 135: 9, 136: 8, 138: 6, 140: 7, 141: 3, 142: 2, 144: 9, 145: 5, 146: 2, 147: 7, 148: 4, 150: 6, 152: 8, 153: 9, 154: 7, 155: 5, 156: 6, 158: 2, 159: 3, 160: 8, 161: 7, 162: 9, 164: 4, 165: 5, 166: 2, 168: 8, 170: 5, 171: 9, 172: 4, 174: 6, 175: 7, 176: 8, 177: 3, 178: 2, 180: 9, 182: 7, 183: 3, 184: 8, 185: 5, 186: 6, 188: 4, 189: 9, 190: 5, 192: 8, 194: 2, 195: 5, 196: 7, 198: 9, 200: 8, 201: 3, 202: 2, 203: 7, 204: 6, 205: 5, 206: 2, 207: 9, 208: 8, 210: 7, 212: 4, 213: 3, 214: 2, 215: 5, 216: 9, 217: 7, 218: 2, 219: 3, 220: 5, 222: 6, 224: 8, 225: 9, 226: 2, 228: 6, 230: 5, 231: 7, 232: 8, 234: 9, 235: 5, 236: 4, 237: 3, 238: 7, 240: 8, 242: 2, 243: 9, 244: 4, 245: 7, 246: 6, 248: 8, 249: 3, 250: 5, 252: 9, 254: 2, 255: 5, 256: 8, 258: 6, 259: 7, 260: 5, 261: 9, 262: 2, 264: 8, 265: 5, 266: 7, 267: 3, 268: 4, 270: 9, 272: 8, 273: 7, 274: 2, 275: 5, 276: 6, 278: 2, 279: 9, 280: 8, 282: 6, 284: 4, 285: 5, 286: 2, 287: 7, 288: 9, 290: 5, 291: 3, 292: 4, 294: 7, 295: 5, 296: 8, 297: 9, 298: 2, 300: 6, 301: 7, 302: 2, 303: 3, 304: 8, 305: 5, 306: 9, 308: 7, 309: 3, 310: 5, 312: 8, 314: 2, 315: 9, 316: 4, 318: 6, 320: 8, 321: 3, 322: 7, 324: 9, 325: 5, 326: 2, 327: 3, 328: 8, 329: 7, 330: 6, 332: 4, 333: 9, 334: 2, 335: 5, 336: 8, 338: 2, 339: 3, 340: 5, 342: 9, 343: 7, 344: 8, 345: 5, 346: 2, 348: 6, 350: 7, 351: 9, 352: 8, 354: 6, 355: 5, 356: 4, 357: 7, 358: 2, 360: 9, 362: 2, 363: 3, 364: 7, 365: 5, 366: 6, 368: 8, 369: 9, 370: 5, 371: 7, 372: 6, 374: 2, 375: 5, 376: 8, 378: 9, 380: 5, 381: 3, 382: 2, 384: 8, 385: 7, 386: 2, 387: 9, 388: 4, 390: 6, 392: 8, 393: 3, 394: 2, 395: 5, 396: 9, 398: 2, 399: 7, 400: 8, 402: 6, 404: 4, 405: 9, 406: 7, 408: 8, 410: 5, 411: 3, 412: 4, 413: 7, 414: 9, 415: 5, 416: 8, 417: 3, 418: 2, 420: 7, 422: 2, 423: 9, 424: 8, 425: 5, 426: 6, 427: 7, 428: 4, 429: 3, 430: 5, 432: 9, 434: 7, 435: 5, 436: 4, 438: 6, 440: 8, 441: 9, 442: 2, 444: 6, 445: 5, 446: 2, 447: 3, 448: 8, 450: 9, 452: 4, 453: 3, 454: 2, 455: 7, 456: 8, 458: 2, 459: 9, 460: 5, 462: 7, 464: 8, 465: 5, 466: 2, 468: 9, 469: 7, 470: 5, 471: 3, 472: 8, 474: 6, 475: 5, 476: 7, 477: 9, 478: 2, 480: 8, 482: 2, 483: 7, 484: 4, 485: 5, 486: 9, 488: 8, 489: 3, 490: 7, 492: 6, 494: 2, 495: 9, 496: 8, 497: 7, 498: 6, 500: 5, 501: 3, 502: 2, 504: 9, 505: 5, 506: 2, 507: 3, 508: 4, 510: 6, 511: 7, 512: 8, 513: 9, 514: 2, 515: 5, 516: 6, 518: 7, 519: 3, 520: 8, 522: 9, 524: 4, 525: 7, 526: 2, 528: 8, 530: 5, 531: 9, 532: 7, 534: 6, 535: 5, 536: 8, 537: 3, 538: 2, 539: 7, 540: 9, 542: 2, 543: 3, 544: 8, 545: 5, 546: 7, 548: 4, 549: 9, 550: 5, 552: 8, 553: 7, 554: 2, 555: 5, 556: 4, 558: 9, 560: 8, 561: 3, 562: 2, 564: 6, 565: 5, 566: 2, 567: 9, 568: 8, 570: 6, 572: 4, 573: 3, 574: 7, 575: 5, 576: 9, 578: 2, 579: 3, 580: 5, 581: 7, 582: 6, 584: 8, 585: 9, 586: 2, 588: 7, 590: 5, 591: 3, 592: 8, 594: 9, 595: 7, 596: 4, 597: 3, 598: 2, 600: 8, 602: 7, 603: 9, 604: 4, 605: 5, 606: 6, 608: 8, 609: 7, 610: 5, 612: 9, 614: 2, 615: 5, 616: 8, 618: 6, 620: 5, 621: 9, 622: 2, 623: 7, 624: 8, 625: 5, 626: 2, 627: 3, 628: 4, 630: 9, 632: 8, 633: 3, 634: 2, 635: 5, 636: 6, 637: 7, 638: 2, 639: 9, 640: 8, 642: 6, 644: 7, 645: 5, 646: 2, 648: 9, 650: 5, 651: 7, 652: 4, 654: 6, 655: 5, 656: 8, 657: 9, 658: 7, 660: 6, 662: 2, 663: 3, 664: 8, 665: 7, 666: 9, 668: 4, 669: 3, 670: 5, 672: 8, 674: 2, 675: 9, 676: 4, 678: 6, 679: 7, 680: 8, 681: 3, 682: 2, 684: 9, 685: 5, 686: 7, 687: 3, 688: 8, 690: 6, 692: 4, 693: 9, 694: 2, 695: 5, 696: 8, 698: 2, 699: 3, 700: 7, 702: 9, 704: 8, 705: 5, 706: 2, 707: 7, 708: 6, 710: 5, 711: 9, 712: 8, 714: 7, 715: 5, 716: 4, 717: 3, 718: 2, 720: 9, 721: 7, 722: 2, 723: 3, 724: 4, 725: 5, 726: 6, 728: 8, 729: 9, 730: 5, 732: 6, 734: 2, 735: 7, 736: 8, 738: 9, 740: 5, 741: 3, 742: 7, 744: 8, 745: 5, 746: 2, 747: 9, 748: 4, 749: 7, 750: 6, 752: 8, 753: 3, 754: 2, 755: 5, 756: 9, 758: 2, 759: 3, 760: 8, 762: 6, 763: 7, 764: 4, 765: 9, 766: 2, 768: 8, 770: 7, 771: 3, 772: 4, 774: 9, 775: 5, 776: 8, 777: 7, 778: 2, 780: 6, 782: 2, 783: 9, 784: 8, 785: 5, 786: 6, 788: 4, 789: 3, 790: 5, 791: 7, 792: 9, 794: 2, 795: 5, 796: 4, 798: 7, 800: 8, 801: 9, 802: 2, 804: 6, 805: 7, 806: 2, 807: 3, 808: 8, 810: 9, 812: 7, 813: 3, 814: 2, 815: 5, 816: 8, 818: 2, 819: 9, 820: 5, 822: 6, 824: 8, 825: 5, 826: 7, 828: 9, 830: 5, 831: 3, 832: 8, 833: 7, 834: 6, 835: 5, 836: 4, 837: 9, 838: 2, 840: 8, 842: 2, 843: 3, 844: 4, 845: 5, 846: 9, 847: 7, 848: 8, 849: 3, 850: 5, 852: 6, 854: 7, 855: 9, 856: 8, 858: 6, 860: 5, 861: 7, 862: 2, 864: 9, 865: 5, 866: 2, 867: 3, 868: 7, 870: 6, 872: 8, 873: 9, 874: 2, 875: 7, 876: 6, 878: 2, 879: 3, 880: 8, 882: 9, 884: 4, 885: 5, 886: 2, 888: 8, 889: 7, 890: 5, 891: 9, 892: 4, 894: 6, 895: 5, 896: 8, 897: 3, 898: 2, 900: 9, 902: 2, 903: 7, 904: 8, 905: 5, 906: 6, 908: 4, 909: 9, 910: 7, 912: 8, 914: 2, 915: 5, 916: 4, 917: 7, 918: 9, 920: 8, 921: 3, 922: 2, 924: 7, 925: 5, 926: 2, 927: 9, 928: 8, 930: 6, 931: 7, 932: 4, 933: 3, 934: 2, 935: 5, 936: 9, 938: 7, 939: 3, 940: 5, 942: 6, 944: 8, 945: 9, 946: 2, 948: 6, 950: 5, 951: 3, 952: 8, 954: 9, 955: 5, 956: 4, 957: 3, 958: 2, 959: 7, 960: 8, 962: 2, 963: 9, 964: 4, 965: 5, 966: 7, 968: 8, 969: 3, 970: 5, 972: 9, 973: 7, 974: 2, 975: 5, 976: 8, 978: 6, 980: 7, 981: 9, 982: 2, 984: 8, 985: 5, 986: 2, 987: 7, 988: 4, 990: 9, 992: 8, 993: 3, 994: 7, 995: 5, 996: 6, 998: 2, 999: 9, 1000: 8}\n"
     ]
    }
   ],
   "source": [
    "# highest single digit divisor for each number\n",
    "def main():\n",
    "    # nested list/dictionary comprehension\n",
    "    divisibles = {x:i for x in range(1,1000+1) for i in range(2,10) if x%i == 0}\n",
    "    # since a dictionary can not contain duplicate keys, and the digit divisor is in order,\n",
    "    # the highest single digit divisor will always prevails\n",
    "    print(divisibles)\n",
    "\n",
    "if __name__ == \"__main__\":\n",
    "    main()"
   ]
  }
 ],
 "metadata": {
  "kernelspec": {
   "display_name": "Python 3.9.7 64-bit",
   "language": "python",
   "name": "python3"
  },
  "language_info": {
   "codemirror_mode": {
    "name": "ipython",
    "version": 3
   },
   "file_extension": ".py",
   "mimetype": "text/x-python",
   "name": "python",
   "nbconvert_exporter": "python",
   "pygments_lexer": "ipython3",
   "version": "3.9.7"
  },
  "orig_nbformat": 4,
  "vscode": {
   "interpreter": {
    "hash": "ef8e66641ffa9f38ae8031a3eed4cd7795c398e85cd67311476beecd9e57b692"
   }
  }
 },
 "nbformat": 4,
 "nbformat_minor": 2
}
