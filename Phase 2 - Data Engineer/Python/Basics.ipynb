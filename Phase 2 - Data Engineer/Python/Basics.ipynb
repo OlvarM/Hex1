{
 "cells": [
  {
   "cell_type": "code",
   "execution_count": 4,
   "metadata": {},
   "outputs": [
    {
     "name": "stdout",
     "output_type": "stream",
     "text": [
      "5 * 1 = 5\n",
      "5 * 2 = 10\n",
      "5 * 3 = 15\n",
      "5 * 4 = 20\n",
      "5 * 5 = 25\n",
      "5 * 6 = 30\n",
      "5 * 7 = 35\n",
      "5 * 8 = 40\n",
      "5 * 9 = 45\n"
     ]
    }
   ],
   "source": [
    "# First problem\n",
    "def main():\n",
    "    for i in range(1,10):\n",
    "        print(\"5 * \" + str(i) + \" = \" + str(5*i))\n",
    "\n",
    "# run main function\n",
    "main()"
   ]
  },
  {
   "cell_type": "code",
   "execution_count": 11,
   "metadata": {},
   "outputs": [
    {
     "name": "stdout",
     "output_type": "stream",
     "text": [
      "2 is an even number.\n"
     ]
    }
   ],
   "source": [
    "# Secod problem, print even or odd\n",
    "def main():\n",
    "    x = input(\"Write a number: \")\n",
    "    if int(x)%2 == 0:\n",
    "        print(x + \" is an even number.\")\n",
    "    else:\n",
    "        print(x + \" is an odd number.\")\n",
    "\n",
    "# call main function\n",
    "main()"
   ]
  },
  {
   "cell_type": "code",
   "execution_count": 26,
   "metadata": {},
   "outputs": [
    {
     "name": "stdout",
     "output_type": "stream",
     "text": [
      "100 is a composite number\n"
     ]
    }
   ],
   "source": [
    "# Prime or composite number\n",
    "def checkPrime(x):\n",
    "    for i in range(2,x):\n",
    "        if x%i == 0:\n",
    "            return False\n",
    "    return True\n",
    "        \n",
    "def main():\n",
    "    x = int(input(\"Write a number: \"))\n",
    "    ans = checkPrime(x)\n",
    "\n",
    "    if ans:\n",
    "        print(str(x) + ' is a prime number')\n",
    "    else:\n",
    "        print(str(x) + ' is a composite number')\n",
    "\n",
    "# run main function\n",
    "main()"
   ]
  },
  {
   "cell_type": "code",
   "execution_count": 23,
   "metadata": {},
   "outputs": [
    {
     "name": "stdout",
     "output_type": "stream",
     "text": [
      "121 is a palindrome.\n"
     ]
    }
   ],
   "source": [
    "# Palindrome\n",
    "def palindrome(number):\n",
    "    if number == number[::-1]:\n",
    "        return True\n",
    "    else:\n",
    "        return False\n",
    "    \n",
    "def main():\n",
    "    number = input(\"Write a number to check if it is a palindrome: \")\n",
    "    if palindrome(number):\n",
    "        print(number + \" is a palindrome.\")\n",
    "    else:\n",
    "        print(number + \" is not a palindrome.\")\n",
    "    \n",
    "# run main function\n",
    "main()"
   ]
  },
  {
   "cell_type": "code",
   "execution_count": 25,
   "metadata": {},
   "outputs": [
    {
     "name": "stdout",
     "output_type": "stream",
     "text": [
      "* \n",
      "* * \n",
      "* * * \n",
      "* * * * \n",
      "* * * * * \n"
     ]
    }
   ],
   "source": [
    "# print pattern\n",
    "def main():\n",
    "    pattern = \"* \"\n",
    "    curr = \"\"\n",
    "    for i in range(5):\n",
    "        print(curr + pattern)\n",
    "        curr += pattern\n",
    "        \n",
    "# run main function\n",
    "main()"
   ]
  },
  {
   "cell_type": "code",
   "execution_count": 21,
   "metadata": {},
   "outputs": [
    {
     "name": "stdout",
     "output_type": "stream",
     "text": [
      "321\n"
     ]
    }
   ],
   "source": [
    "a = '123'\n",
    "print(a[::-1])"
   ]
  },
  {
   "cell_type": "markdown",
   "metadata": {},
   "source": [
    "## Day 2"
   ]
  },
  {
   "cell_type": "code",
   "execution_count": 3,
   "metadata": {},
   "outputs": [
    {
     "name": "stdout",
     "output_type": "stream",
     "text": [
      "(0,0)\n",
      "(0,1)\n",
      "(1,0)\n",
      "(1,1)\n",
      "(2,0)\n",
      "(2,1)\n",
      "(3,0)\n",
      "(3,1)\n",
      "(4,0)\n",
      "(4,1)\n"
     ]
    }
   ],
   "source": [
    "# Nested for-loop and break\n",
    "def main():\n",
    "    for i in range(5):\n",
    "        for j in range(2):\n",
    "            print(f\"({i},{j})\")\n",
    "            if j > 1:\n",
    "                break\n",
    "        \n",
    "\n",
    "# run main\n",
    "main()"
   ]
  },
  {
   "cell_type": "code",
   "execution_count": 4,
   "metadata": {},
   "outputs": [
    {
     "name": "stdout",
     "output_type": "stream",
     "text": [
      "-- Help:  type 'quit' to exit --\n",
      "Your favorite color is: red.\n",
      "Your favorite color is: blue.\n"
     ]
    }
   ],
   "source": [
    "# favorite color\n",
    "def main():\n",
    "    print(\"-- Help:  type 'quit' to exit --\")\n",
    "    while True:\n",
    "        color = input(\"What's your favorite color?\")\n",
    "        if color.lower() == 'quit':\n",
    "            break\n",
    "        print(f\"Your favorite color is: {color}.\")\n",
    "\n",
    "\n",
    "# run main\n",
    "main()"
   ]
  },
  {
   "cell_type": "markdown",
   "metadata": {},
   "source": [
    "## Looping Exercises"
   ]
  },
  {
   "cell_type": "code",
   "execution_count": 10,
   "metadata": {},
   "outputs": [
    {
     "name": "stdout",
     "output_type": "stream",
     "text": [
      "n \tn^2 \tn^3 \tn^4\n",
      "1 \t1 \t1 \t1\n",
      "2 \t4 \t8 \t16\n",
      "3 \t9 \t27 \t81\n"
     ]
    }
   ],
   "source": [
    "# Printing Powers\n",
    "def main():\n",
    "    n = int(input(\"Enter the largest number to have powers: \"))\n",
    "    print(\"n \\tn^2 \\tn^3 \\tn^4\")\n",
    "\n",
    "    for i in range(1,n+1):\n",
    "        print(f\"{i} \\t{i**2} \\t{i**3} \\t{i**4}\")\n",
    "\n",
    "main()\n"
   ]
  },
  {
   "cell_type": "code",
   "execution_count": 14,
   "metadata": {},
   "outputs": [
    {
     "name": "stdout",
     "output_type": "stream",
     "text": [
      "Sum from 1 to 10\n",
      "n \tsum\n",
      "1 \t1\n",
      "2 \t3\n",
      "3 \t6\n",
      "4 \t10\n",
      "5 \t15\n",
      "6 \t21\n",
      "7 \t28\n",
      "8 \t36\n",
      "9 \t45\n",
      "10 \t55\n",
      "Sum until total>100\n",
      "n \tsum\n",
      "1 \t1\n",
      "2 \t3\n",
      "3 \t6\n",
      "4 \t10\n",
      "5 \t15\n",
      "6 \t21\n",
      "7 \t28\n",
      "8 \t36\n",
      "9 \t45\n",
      "10 \t55\n",
      "11 \t66\n",
      "12 \t78\n",
      "13 \t91\n",
      "14 \t105\n"
     ]
    }
   ],
   "source": [
    "# sums 1 to 10 and until 100\n",
    "def main():\n",
    "    # sum from 1 to 10\n",
    "    curr = 0\n",
    "    print(\"Sum from 1 to 10\")\n",
    "    print(\"n \\tsum\")\n",
    "    for i in range(1,11):\n",
    "        print(f\"{i} \\t{curr + i}\")\n",
    "        curr += i\n",
    "    \n",
    "    # sum until >100\n",
    "    curr = 0\n",
    "    i = 1\n",
    "    print(\"\\nSum until total>100\")\n",
    "    print(\"n \\tsum\")\n",
    "    while curr < 100:\n",
    "        print(f\"{i} \\t{curr + i}\")\n",
    "        curr += i\n",
    "        i += 1\n",
    "\n",
    "# run main\n",
    "main()"
   ]
  }
 ],
 "metadata": {
  "kernelspec": {
   "display_name": "Python 3.9.7 64-bit",
   "language": "python",
   "name": "python3"
  },
  "language_info": {
   "codemirror_mode": {
    "name": "ipython",
    "version": 3
   },
   "file_extension": ".py",
   "mimetype": "text/x-python",
   "name": "python",
   "nbconvert_exporter": "python",
   "pygments_lexer": "ipython3",
   "version": "3.9.7"
  },
  "orig_nbformat": 4,
  "vscode": {
   "interpreter": {
    "hash": "ef8e66641ffa9f38ae8031a3eed4cd7795c398e85cd67311476beecd9e57b692"
   }
  }
 },
 "nbformat": 4,
 "nbformat_minor": 2
}
