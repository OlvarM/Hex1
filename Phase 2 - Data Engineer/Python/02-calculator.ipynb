{
 "cells": [
  {
   "cell_type": "code",
   "execution_count": 2,
   "metadata": {},
   "outputs": [
    {
     "name": "stdout",
     "output_type": "stream",
     "text": [
      "Write two numbers: \n",
      "Select the option you which to perform.\n",
      "Substraction.\n",
      "2 - 10 = -8\n",
      "Write two numbers: \n",
      "Select the option you which to perform.\n",
      "Multiplication.\n",
      "10 * 3 = 30\n"
     ]
    }
   ],
   "source": [
    "# Calculator\n",
    "def main():\n",
    "    cont = \"Y\"\n",
    "    while cont == \"Y\":\n",
    "        # select two numbers\n",
    "        print(\"Write two numbers: \")\n",
    "        x = int(input())\n",
    "        y = int(input())\n",
    "\n",
    "        # Select operation\n",
    "        print(\"Select the option you which to perform.\")\n",
    "        option = int(input(\"1. Addition \\n2. Substraction \\n3. Multiplication \\n4. Division \\n 5. Quit \\n\"))\n",
    "\n",
    "        # Perform action\n",
    "        if option == 1:\n",
    "            print(\"Addition.\")\n",
    "            print(\"{} + {} = {}\".format(x,y,x+y))\n",
    "        elif option == 2:\n",
    "            print(\"Substraction.\")\n",
    "            print(\"{} - {} = {}\".format(x,y,x-y))\n",
    "        elif option == 3:\n",
    "            print(\"Multiplication.\")\n",
    "            print(\"{} * {} = {}\".format(x,y,x*y))\n",
    "        elif option == 4:\n",
    "            print(\"Division.\")  \n",
    "            print(\"{} / {} = {}\".format(x,y,x/y))\n",
    "        else:\n",
    "            break\n",
    "\n",
    "        # ask for continue\n",
    "        cont = input(\"Do you want to continue? Y/N \\n\")\n",
    "\n",
    "    print(\"Closing application.\")\n",
    "\n",
    "# run main function\n",
    "main()"
   ]
  }
 ],
 "metadata": {
  "kernelspec": {
   "display_name": "Python 3.10.7 64-bit",
   "language": "python",
   "name": "python3"
  },
  "language_info": {
   "codemirror_mode": {
    "name": "ipython",
    "version": 3
   },
   "file_extension": ".py",
   "mimetype": "text/x-python",
   "name": "python",
   "nbconvert_exporter": "python",
   "pygments_lexer": "ipython3",
   "version": "3.10.7"
  },
  "orig_nbformat": 4,
  "vscode": {
   "interpreter": {
    "hash": "ba288ba8dcaeb6414279117d77e0b2fa844cb9296c146f4d786ad8b9ed202e4d"
   }
  }
 },
 "nbformat": 4,
 "nbformat_minor": 2
}
