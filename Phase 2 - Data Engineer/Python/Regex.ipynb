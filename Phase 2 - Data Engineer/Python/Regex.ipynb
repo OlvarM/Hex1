{
 "cells": [
  {
   "cell_type": "markdown",
   "metadata": {},
   "source": [
    "# Using Regex for IP addresses"
   ]
  },
  {
   "cell_type": "code",
   "execution_count": 4,
   "metadata": {},
   "outputs": [
    {
     "name": "stdout",
     "output_type": "stream",
     "text": [
      "Your IP address is: IPv6\n"
     ]
    }
   ],
   "source": [
    "# WAP to identify if IPv4 or IPv6\n",
    "# IPv4 are 4 fields separated by a dot\"(.)\n",
    "# IPv6 are 8 fields separated by a colon\"(:)\n",
    "import re\n",
    "\n",
    "def checkIP(address):\n",
    "    address = re.split(\"[.]|[:]\",address)\n",
    "    if len(address) == 4:\n",
    "        for field in address:\n",
    "            # 8 bit field (255)\n",
    "            if int(field) > 255:\n",
    "                return \"Neither\"\n",
    "        return \"IPv4\"\n",
    "    elif len(address) == 8:\n",
    "        for field in address:\n",
    "            if int(field,base=16) > int('FFFF', base=16):\n",
    "                return \"Neither\"\n",
    "        return \"IPv6\"\n",
    "    else:\n",
    "        return \"Neither\"\n",
    "\n",
    "\n",
    "def main():\n",
    "    address = input(\"Enter your IP address: \")\n",
    "    ans = checkIP(address)\n",
    "    print(f\"Your IP address is: {ans}\")\n",
    "\n",
    "\n",
    "# run main\n",
    "if __name__ == \"__main__\":\n",
    "    main()"
   ]
  },
  {
   "cell_type": "code",
   "execution_count": 6,
   "metadata": {},
   "outputs": [
    {
     "name": "stdout",
     "output_type": "stream",
     "text": [
      "Your IP address is: IPv6\n"
     ]
    }
   ],
   "source": [
    "# Identify IP address if IPv4 or IPv6 \n",
    "import re\n",
    "def checkIP(address):\n",
    "    #using regex \\d for decimals \\. for explicit dots\n",
    "    v4 = re.match(\"^\\d{1,3}\\.\\d{1,3}\\.\\d{1,3}\\.\\d{1,3}$\",address)\n",
    "    if v4:\n",
    "        # check for max bit size 255\n",
    "        for field in address.split(\".\"):\n",
    "            if int(field) > 255 or int(field) < 0:\n",
    "                return \"Neither\"\n",
    "        return \"IPv4\"\n",
    "    \n",
    "    # IPv6 RegEx\n",
    "    v6 = re.match(\n",
    "    \"([0-9a-fA-F]{1,4}:){7,7}[0-9a-fA-F]{1,4}|\"          # 1:2:3:4:5:6:7:8\n",
    "    \"([0-9a-fA-F]{1,4}:){1,7}:|\"                         # 1::                              1:2:3:4:5:6:7::\n",
    "    \"([0-9a-fA-F]{1,4}:){1,6}:[0-9a-fA-F]{1,4}|\"         # 1::8             1:2:3:4:5:6::8  1:2:3:4:5:6::8\n",
    "    \"([0-9a-fA-F]{1,4}:){1,5}(:[0-9a-fA-F]{1,4}){1,2}|\"  # 1::7:8           1:2:3:4:5::7:8  1:2:3:4:5::8\n",
    "    \"([0-9a-fA-F]{1,4}:){1,4}(:[0-9a-fA-F]{1,4}){1,3}|\"  # 1::6:7:8         1:2:3:4::6:7:8  1:2:3:4::8\n",
    "    \"([0-9a-fA-F]{1,4}:){1,3}(:[0-9a-fA-F]{1,4}){1,4}|\"  # 1::5:6:7:8       1:2:3::5:6:7:8  1:2:3::8\n",
    "    \"([0-9a-fA-F]{1,4}:){1,2}(:[0-9a-fA-F]{1,4}){1,5}|\"  # 1::4:5:6:7:8     1:2::4:5:6:7:8  1:2::8\n",
    "    \"[0-9a-fA-F]{1,4}:((:[0-9a-fA-F]{1,4}){1,6})|\"       # 1::3:4:5:6:7:8   1::3:4:5:6:7:8  1::8  \n",
    "    \":((:[0-9a-fA-F]{1,4}){1,7}|:)|\"                     # ::2:3:4:5:6:7:8  ::2:3:4:5:6:7:8 ::8       ::     \n",
    "    \"fe80:(:[0-9a-fA-F]{0,4}){0,4}%[0-9a-zA-Z]{1,}|\"     # fe80::7:8%eth0   fe80::7:8%1     (link-local IPv6 addresses with zone index)\n",
    "    \"::(ffff(:0{1,4}){0,1}:){0,1}\"\n",
    "    \"((25[0-5]|(2[0-4]|1{0,1}[0-9]){0,1}[0-9])\\.){3,3}\"\n",
    "    \"(25[0-5]|(2[0-4]|1{0,1}[0-9]){0,1}[0-9])|\"          # ::255.255.255.255   ::ffff:255.255.255.255  ::ffff:0:255.255.255.255  (IPv4-mapped IPv6 addresses and IPv4-translated addresses)\n",
    "    \"([0-9a-fA-F]{1,4}:){1,4}:\"\n",
    "    \"((25[0-5]|(2[0-4]|1{0,1}[0-9]){0,1}[0-9])\\.){3,3}\"\n",
    "    \"(25[0-5]|(2[0-4]|1{0,1}[0-9]){0,1}[0-9])\"           # 2001:db8:3:4::192.0.2.33  64:ff9b::192.0.2.33 (IPv4-Embedded IPv6 Address)\n",
    "    ,address)\n",
    "    \n",
    "    if v6:\n",
    "        return \"IPv6\"\n",
    "    else:\n",
    "        return \"Neither\"\n",
    "\n",
    "        \n",
    "def main():\n",
    "    address = input(\"Enter your IP address: \")\n",
    "    ans = checkIP(address)\n",
    "    print(f\"Your IP address is: {ans}\")\n",
    "\n",
    "\n",
    "# run main\n",
    "if __name__ == \"__main__\":\n",
    "    main()"
   ]
  }
 ],
 "metadata": {
  "kernelspec": {
   "display_name": "Python 3.9.7 64-bit",
   "language": "python",
   "name": "python3"
  },
  "language_info": {
   "codemirror_mode": {
    "name": "ipython",
    "version": 3
   },
   "file_extension": ".py",
   "mimetype": "text/x-python",
   "name": "python",
   "nbconvert_exporter": "python",
   "pygments_lexer": "ipython3",
   "version": "3.9.7"
  },
  "orig_nbformat": 4,
  "vscode": {
   "interpreter": {
    "hash": "ef8e66641ffa9f38ae8031a3eed4cd7795c398e85cd67311476beecd9e57b692"
   }
  }
 },
 "nbformat": 4,
 "nbformat_minor": 2
}
