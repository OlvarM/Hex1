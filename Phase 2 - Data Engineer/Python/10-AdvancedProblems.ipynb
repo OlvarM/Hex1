{
 "cells": [
  {
   "cell_type": "markdown",
   "metadata": {},
   "source": [
    "# Discussion 10 - Advanced Problems"
   ]
  },
  {
   "cell_type": "code",
   "execution_count": 1,
   "metadata": {},
   "outputs": [
    {
     "name": "stdout",
     "output_type": "stream",
     "text": [
      "Password criteria: \n",
      "a. At least 1 letter between [a-z]\n",
      "b. At least 1 number between [0-9]\n",
      "c. At least 1 letter between [A-Z]\n",
      "d. At least 1 character from [$#@]\n",
      "e. Minimum length of transaction password: 6\n",
      "f. Maximum length of transaction password: 12\n",
      "['ABd1234@1']\n"
     ]
    }
   ],
   "source": [
    "# website password\n",
    "import re\n",
    "def checkPassword(password):\n",
    "    # check length\n",
    "    if 12 >= len(password) >= 6:\n",
    "        # digits\n",
    "        digits = re.search(\"[0-9]\",password)\n",
    "        # uppercase\n",
    "        upperCase = re.search(\"[A-Z]\",password)\n",
    "        # special character\n",
    "        special = re.search(\"[$#@]\",password)\n",
    "        if digits and upperCase and special:\n",
    "            return password\n",
    "\n",
    "def main():\n",
    "    userName = input(\"Enter username: \")\n",
    "    print(\"Password criteria: \\na. At least 1 letter between [a-z]\"\n",
    "\"\\nb. At least 1 number between [0-9]\"\n",
    "\"\\nc. At least 1 letter between [A-Z]\"\n",
    "\"\\nd. At least 1 character from [$#@]\"\n",
    "\"\\ne. Minimum length of transaction password: 6\"\n",
    "\"\\nf. Maximum length of transaction password: 12\")\n",
    "    passwords = input(\"Enter password: (extra passwords are delimited by commas (,))\")\n",
    "\n",
    "    # list of passwords\n",
    "    lst = []\n",
    "    for word in passwords.split(\",\"):\n",
    "        password = checkPassword(word)\n",
    "        if password: lst.append(password)\n",
    "    \n",
    "    # print valid passwords\n",
    "    print([x for x in lst])\n",
    "\n",
    "#run main\n",
    "if __name__ == \"__main__\":\n",
    "    main()"
   ]
  },
  {
   "cell_type": "code",
   "execution_count": 16,
   "metadata": {},
   "outputs": [
    {
     "name": "stdout",
     "output_type": "stream",
     "text": [
      "[('olvar', 20, 90), ('Sofia', 25, 90), ('Sofia', 10, 100)]\n"
     ]
    }
   ],
   "source": [
    "# 2. order by name, age, score from tupple\n",
    "from operator import itemgetter\n",
    "\n",
    "\n",
    "def register():\n",
    "    name = input(\"Enter name\")\n",
    "    age = int(input(f\"Enter {name} age: \"))\n",
    "    score = int(input(f\"Enter {name} score\"))\n",
    "    return (name,age,score)\n",
    "\n",
    "def main():\n",
    "    # register n number of students\n",
    "    n = int(input(\"Number of students: \"))\n",
    "    students = []\n",
    "    for i in range(n):\n",
    "        students.append(register())\n",
    "\n",
    "    # sort tupples using itemgetter\n",
    "    sorted(students,key=itemgetter(0,1,2))\n",
    "    \n",
    "    # print sorted list\n",
    "    print(students)\n",
    "\n",
    "# run main\n",
    "if __name__ == \"__main__\":\n",
    "    main()"
   ]
  },
  {
   "cell_type": "code",
   "execution_count": 17,
   "metadata": {},
   "outputs": [
    {
     "name": "stdout",
     "output_type": "stream",
     "text": [
      "[0, 7, 14, 21, 28, 35, 42, 49, 56, 63, 70, 77, 84, 91, 98]\n"
     ]
    }
   ],
   "source": [
    "# class with generator for divisibles of 7 from 0 to n\n",
    "class divisible7:\n",
    "    def __init__(self,n):\n",
    "        self.multiples = [x for x in range(0,n+1,7)]\n",
    "    \n",
    "# call class\n",
    "lst = divisible7(100)\n",
    "print(lst.multiples)"
   ]
  },
  {
   "cell_type": "code",
   "execution_count": 20,
   "metadata": {},
   "outputs": [
    {
     "name": "stdout",
     "output_type": "stream",
     "text": [
      "Distance from (0,0) to (-1,2): \n",
      "2\n"
     ]
    }
   ],
   "source": [
    "# robot distance       \n",
    "import math\n",
    "class robot():\n",
    "    def __init__(self) -> None:\n",
    "        self.x = 0\n",
    "        self.y = 0\n",
    "    \n",
    "    def movement(self,direction,distance):\n",
    "        if direction.upper() == \"UP\":\n",
    "            self.y += distance\n",
    "        elif direction.upper() == \"DOWN\":\n",
    "            self.y -= distance\n",
    "        elif direction.upper() == \"RIGHT\":\n",
    "            self.x += distance\n",
    "        elif direction.upper() == \"LEFT\":\n",
    "            self.x -= distance\n",
    "        else:\n",
    "            print(\"Enter valid direction. \\n'UP' \\t'DOWN' \\t'RIGHT' \\t'LEFT'\")\n",
    "    \n",
    "    def totalDistance(self):\n",
    "        return round(math.sqrt(self.x**2 + self.y**2))\n",
    "\n",
    "    def decisions(self):\n",
    "        # decide movement\n",
    "        while True:\n",
    "            direction = input(\"Enter direction (or 'exit' to calculate distance): \")\n",
    "            if direction == 'exit':\n",
    "                break\n",
    "            distance = int(input(\"Enter distance: \"))\n",
    "            # move robot\n",
    "            self.movement(direction,distance)\n",
    "\n",
    "# main\n",
    "def main():\n",
    "    robot_object = robot()\n",
    "    robot_object.decisions()\n",
    "    distance = robot_object.totalDistance()\n",
    "    print(f\"Distance from (0,0) to ({robot_object.x},{robot_object.y}): \\n{distance}\")\n",
    "\n",
    "# run main\n",
    "if __name__ == \"__main__\":\n",
    "    main()"
   ]
  }
 ],
 "metadata": {
  "kernelspec": {
   "display_name": "Python 3.9.7 64-bit",
   "language": "python",
   "name": "python3"
  },
  "language_info": {
   "codemirror_mode": {
    "name": "ipython",
    "version": 3
   },
   "file_extension": ".py",
   "mimetype": "text/x-python",
   "name": "python",
   "nbconvert_exporter": "python",
   "pygments_lexer": "ipython3",
   "version": "3.9.7"
  },
  "orig_nbformat": 4,
  "vscode": {
   "interpreter": {
    "hash": "ef8e66641ffa9f38ae8031a3eed4cd7795c398e85cd67311476beecd9e57b692"
   }
  }
 },
 "nbformat": 4,
 "nbformat_minor": 2
}
