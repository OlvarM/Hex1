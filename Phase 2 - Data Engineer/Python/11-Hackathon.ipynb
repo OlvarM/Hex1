{
 "cells": [
  {
   "cell_type": "markdown",
   "metadata": {},
   "source": [
    "# Discussion 11 - Hackathon questions\n",
    " HackerRank questions*"
   ]
  },
  {
   "cell_type": "code",
   "execution_count": 16,
   "metadata": {},
   "outputs": [
    {
     "name": "stdout",
     "output_type": "stream",
     "text": [
      "Runner up score: \n",
      "5\n"
     ]
    }
   ],
   "source": [
    "def main(arr):\n",
    "    # runner up\n",
    "    arr = list(arr)\n",
    "    print(\"Runner up score: \")\n",
    "    \n",
    "    print(max([x for x in arr if x < max(arr)]))\n",
    "\n",
    "\n",
    "# runner up score (second)\n",
    "if __name__ == '__main__':\n",
    "    n = int(input(\"Enter the number of elements: \"))\n",
    "    arr = map(int, input(\"Enter elements score (separated by a space)\").split())\n",
    "\n",
    "    main(arr)\n",
    "\n",
    "    "
   ]
  },
  {
   "cell_type": "markdown",
   "metadata": {},
   "source": [
    "## 2. Nested lists"
   ]
  },
  {
   "cell_type": "code",
   "execution_count": null,
   "metadata": {},
   "outputs": [],
   "source": [
    "# nested lists\n",
    "def main(newLst):\n",
    "    Scores = [x[1] for x in newLst]\n",
    "    newScores = [x for x in Scores if x > min(Scores)]\n",
    "    # get second lowest grade\n",
    "    secondLowest = min(newScores)\n",
    "\n",
    "    # get names with second lowest grade\n",
    "    newNames = [n[0] for n in newLst if n[1] == secondLowest]\n",
    "    # sort names\n",
    "    newNames.sort()\n",
    "    # print by list comprehension\n",
    "    [print(i) for i in newNames]\n",
    "\n",
    "\n",
    "if __name__ == '__main__':\n",
    "    newLst = []\n",
    "    for _ in range(int(input(\"Enter number of students: \"))):\n",
    "        name = input(\"Entre Name of the Student:\")\n",
    "        score = float(input(f\"Enter grade (with decimals) of {name}: \"))\n",
    "        newLst.append([name,score])\n",
    "        \n",
    "    main(newLst)"
   ]
  },
  {
   "cell_type": "markdown",
   "metadata": {},
   "source": [
    "## 3. Find percentage"
   ]
  },
  {
   "cell_type": "code",
   "execution_count": 20,
   "metadata": {},
   "outputs": [
    {
     "name": "stdout",
     "output_type": "stream",
     "text": [
      "84.67\n"
     ]
    }
   ],
   "source": [
    "# find percentage\n",
    "def main(student_marks,query_name):\n",
    "    # get the marks of the query student\n",
    "    Marks = student_marks.get(query_name)\n",
    "    ans = float(sum(Marks)/len(Marks))\n",
    "    # print rounded\n",
    "    print(query_name)\n",
    "    print('%.2f' % ans)\n",
    "\n",
    "if __name__ == '__main__':\n",
    "    n = int(input(\"Enter total students: \"))\n",
    "    # dictionary\n",
    "    student_marks = {}\n",
    "    for _ in range(n):\n",
    "        name, *line = input(\"Enter student name and grades (separated by a space): \").split()\n",
    "        scores = list(map(float, line))\n",
    "        student_marks[name] = scores\n",
    "    query_name = input(\"Name of the student to check grades average: \")\n",
    "\n",
    "    # run function\n",
    "    main(student_marks,query_name)\n",
    "    \n"
   ]
  },
  {
   "cell_type": "markdown",
   "metadata": {},
   "source": [
    "## 4. List Comprehension"
   ]
  },
  {
   "cell_type": "code",
   "execution_count": 29,
   "metadata": {},
   "outputs": [
    {
     "name": "stdout",
     "output_type": "stream",
     "text": [
      "[[0, 0, 0], [0, 0, 1], [0, 1, 0], [1, 0, 0], [1, 1, 1]]\n"
     ]
    }
   ],
   "source": [
    "# permutation that is not n\n",
    "def main(x,y,z,n):\n",
    "    # use list comprehension\n",
    "    permutations = [[i,j,k] for i in range(x+1) for j in range(y+1) for k in range(z+1) if (i+j+k) != n]\n",
    "    print(permutations)\n",
    "\n",
    "if __name__ == '__main__':\n",
    "    x = int(input(\"Enter dimesion x: \"))\n",
    "    y = int(input(\"Enter dimesion y: \"))\n",
    "    z = int(input(\"Enter dimesion z: \"))\n",
    "    n = int(input(\"Enter integer n: \"))\n",
    "\n",
    "    main(x,y,z,n)\n"
   ]
  },
  {
   "cell_type": "markdown",
   "metadata": {},
   "source": [
    "## 5. WAP leap years"
   ]
  },
  {
   "cell_type": "code",
   "execution_count": null,
   "metadata": {},
   "outputs": [],
   "source": [
    "def is_leap(year):\n",
    "    leap = False\n",
    "    \n",
    "    # Write your logic here\n",
    "    if year%4==0:\n",
    "        leap = True\n",
    "        if year%100 == 0:\n",
    "            leap = False\n",
    "            if year%400 == 0:\n",
    "                leap = True\n",
    "        \n",
    "        \n",
    "    return leap"
   ]
  }
 ],
 "metadata": {
  "kernelspec": {
   "display_name": "Python 3.9.7 64-bit",
   "language": "python",
   "name": "python3"
  },
  "language_info": {
   "codemirror_mode": {
    "name": "ipython",
    "version": 3
   },
   "file_extension": ".py",
   "mimetype": "text/x-python",
   "name": "python",
   "nbconvert_exporter": "python",
   "pygments_lexer": "ipython3",
   "version": "3.9.7"
  },
  "orig_nbformat": 4,
  "vscode": {
   "interpreter": {
    "hash": "ef8e66641ffa9f38ae8031a3eed4cd7795c398e85cd67311476beecd9e57b692"
   }
  }
 },
 "nbformat": 4,
 "nbformat_minor": 2
}
