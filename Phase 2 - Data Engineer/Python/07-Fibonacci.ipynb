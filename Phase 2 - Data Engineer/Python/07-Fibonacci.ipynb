{
 "cells": [
  {
   "cell_type": "code",
   "execution_count": 7,
   "metadata": {},
   "outputs": [
    {
     "name": "stdout",
     "output_type": "stream",
     "text": [
      "First 10 terms of the Fibonacci Sequence \n",
      " [0, 1, 1, 2, 3, 5, 8, 13, 21, 34]\n"
     ]
    }
   ],
   "source": [
    "# First n terms of Fibonacci\n",
    "def main():\n",
    "    n = int(input(\"Number of terms in the Fibonacci sequence: \"))\n",
    "\n",
    "    fibonacci = [0,1]\n",
    "    for i in range(2,n):\n",
    "        fibonacci.append(fibonacci[i-1]+fibonacci[i-2])\n",
    "\n",
    "    print(f\"First {n} terms of the Fibonacci Sequence \\n {fibonacci}\")\n",
    "# run main\n",
    "main()"
   ]
  },
  {
   "cell_type": "code",
   "execution_count": 11,
   "metadata": {},
   "outputs": [
    {
     "name": "stdout",
     "output_type": "stream",
     "text": [
      "Fibonacci Sequence until 100 \n",
      " [0, 1, 1, 2, 3, 5, 8, 13, 21, 34, 55, 89]\n"
     ]
    }
   ],
   "source": [
    "# Fibonacci until number n\n",
    "def main():\n",
    "    num = int(input(\"Number to find in Fibonacci sequence: \"))\n",
    "\n",
    "    fibonacci = [0,1]\n",
    "    count = 2\n",
    "    while fibonacci[-1] < num:\n",
    "        fibonacci.append(fibonacci[count-1]+fibonacci[count-2])\n",
    "        count += 1\n",
    "\n",
    "    print(f\"Fibonacci Sequence until {num} \\n {fibonacci}\")\n",
    "# run main\n",
    "main()"
   ]
  }
 ],
 "metadata": {
  "kernelspec": {
   "display_name": "Python 3.9.7 64-bit",
   "language": "python",
   "name": "python3"
  },
  "language_info": {
   "codemirror_mode": {
    "name": "ipython",
    "version": 3
   },
   "file_extension": ".py",
   "mimetype": "text/x-python",
   "name": "python",
   "nbconvert_exporter": "python",
   "pygments_lexer": "ipython3",
   "version": "3.9.7"
  },
  "orig_nbformat": 4,
  "vscode": {
   "interpreter": {
    "hash": "ef8e66641ffa9f38ae8031a3eed4cd7795c398e85cd67311476beecd9e57b692"
   }
  }
 },
 "nbformat": 4,
 "nbformat_minor": 2
}
