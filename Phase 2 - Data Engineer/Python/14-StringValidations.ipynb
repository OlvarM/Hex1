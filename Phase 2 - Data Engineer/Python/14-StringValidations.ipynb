{
 "cells": [
  {
   "cell_type": "markdown",
   "metadata": {},
   "source": [
    "# Discussion 14 - String Validations (HackerRank)"
   ]
  },
  {
   "cell_type": "code",
   "execution_count": 1,
   "metadata": {},
   "outputs": [
    {
     "name": "stdout",
     "output_type": "stream",
     "text": [
      "The string validates True for alnum!\n",
      "The string validates True for alpha!\n",
      "The string validates True for digit!\n",
      "The string validates True for lower!\n",
      "The string validates True for upper!\n"
     ]
    }
   ],
   "source": [
    "def main(string):\n",
    "    states = ['alnum','alpha','digit','lower','upper']\n",
    "    validations = [False,False,False,False,False]\n",
    "\n",
    "    # one loop\n",
    "    for c in string:\n",
    "        if c.isalnum() and not validations[0]:\n",
    "            validations[0] = True\n",
    "        if c.isalpha() and not validations[1]:\n",
    "            validations[1] = True\n",
    "        if c.isdigit() and not validations[2]:\n",
    "            validations[2] = True\n",
    "        if c.islower() and not validations[3]:\n",
    "            validations[3] = True\n",
    "        if c.isupper() and not validations[4]:\n",
    "            validations[4] = True\n",
    "                \n",
    "    # print using list comprehension\n",
    "    [print(f\"The string validates {validations[i]} for {states[i]}!\") for i in range(len(validations))]\n",
    "\n",
    "if __name__ == '__main__':\n",
    "    s = input(\"Enter a string to check the string validations: \")\n",
    "    main(s)"
   ]
  }
 ],
 "metadata": {
  "kernelspec": {
   "display_name": "Python 3.9.7 64-bit",
   "language": "python",
   "name": "python3"
  },
  "language_info": {
   "codemirror_mode": {
    "name": "ipython",
    "version": 3
   },
   "file_extension": ".py",
   "mimetype": "text/x-python",
   "name": "python",
   "nbconvert_exporter": "python",
   "pygments_lexer": "ipython3",
   "version": "3.9.7"
  },
  "orig_nbformat": 4,
  "vscode": {
   "interpreter": {
    "hash": "ef8e66641ffa9f38ae8031a3eed4cd7795c398e85cd67311476beecd9e57b692"
   }
  }
 },
 "nbformat": 4,
 "nbformat_minor": 2
}
