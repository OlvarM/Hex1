{
 "cells": [
  {
   "cell_type": "code",
   "execution_count": 6,
   "metadata": {},
   "outputs": [
    {
     "name": "stdout",
     "output_type": "stream",
     "text": [
      "original number: 12345\n",
      "10^n \tdigit\n",
      "0\t5\n",
      "1\t4\n",
      "2\t3\n",
      "3\t2\n",
      "4\t1\n"
     ]
    }
   ],
   "source": [
    "# digit extraction using loop\n",
    "def main():\n",
    "    num = int(input(\"Enter a number: \"))\n",
    "\n",
    "    print(f\"original number: {num}\")\n",
    "    \n",
    "    # using a loop\n",
    "    print(\"10^n \\tdigit\")\n",
    "    i = 0\n",
    "    while num > 0:\n",
    "        print(f\"{i}\\t{num%10}\")\n",
    "        num //= 10\n",
    "        i += 1\n",
    "    \n",
    "    \n",
    "\n",
    "# run main\n",
    "main()"
   ]
  },
  {
   "cell_type": "code",
   "execution_count": 10,
   "metadata": {},
   "outputs": [
    {
     "name": "stdout",
     "output_type": "stream",
     "text": [
      "original number: 21354\n",
      "digits:\n",
      "4\n",
      "5\n",
      "3\n",
      "1\n",
      "2\n"
     ]
    }
   ],
   "source": [
    "# tail recursion function\n",
    "def getDigits(number):\n",
    "    print(f\"{number%10}\")\n",
    "    number //= 10\n",
    "    if number > 0:\n",
    "        getDigits(number)\n",
    "\n",
    "# main function\n",
    "def main():\n",
    "    num = int(input(\"Enter a number: \"))\n",
    "    print(f\"original number: {num}\")\n",
    "    print(\"digits:\")\n",
    "    getDigits(num)\n",
    "    \n",
    "\n",
    "# run main function\n",
    "main()"
   ]
  },
  {
   "cell_type": "code",
   "execution_count": 2,
   "metadata": {},
   "outputs": [
    {
     "name": "stdout",
     "output_type": "stream",
     "text": [
      "original number: 12345\n",
      "digits:\n",
      "1\n",
      "2\n",
      "3\n",
      "4\n",
      "5\n"
     ]
    }
   ],
   "source": [
    "# head recursion function\n",
    "def getDigits(number):\n",
    "    digit = number%10\n",
    "    number //= 10\n",
    "    if number > 0:\n",
    "        getDigits(number)\n",
    "    print(f\"{digit}\")    \n",
    "\n",
    "# main function\n",
    "def main():\n",
    "    num = int(input(\"Enter a number: \"))\n",
    "    print(f\"original number: {num}\")\n",
    "    print(\"digits:\")\n",
    "    getDigits(num)    \n",
    "\n",
    "# run main function\n",
    "main()"
   ]
  }
 ],
 "metadata": {
  "kernelspec": {
   "display_name": "Python 3.9.7 64-bit",
   "language": "python",
   "name": "python3"
  },
  "language_info": {
   "codemirror_mode": {
    "name": "ipython",
    "version": 3
   },
   "file_extension": ".py",
   "mimetype": "text/x-python",
   "name": "python",
   "nbconvert_exporter": "python",
   "pygments_lexer": "ipython3",
   "version": "3.9.7"
  },
  "orig_nbformat": 4,
  "vscode": {
   "interpreter": {
    "hash": "ef8e66641ffa9f38ae8031a3eed4cd7795c398e85cd67311476beecd9e57b692"
   }
  }
 },
 "nbformat": 4,
 "nbformat_minor": 2
}
