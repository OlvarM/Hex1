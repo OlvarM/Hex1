{
 "cells": [
  {
   "cell_type": "code",
   "execution_count": 4,
   "metadata": {},
   "outputs": [
    {
     "name": "stdout",
     "output_type": "stream",
     "text": [
      "-- Help: to close input 'exit' -- \n",
      "1 ^ 2 = 1\n",
      "2 ^ 2 = 4\n",
      "4 ^ 2 = 16\n",
      "6 ^ 2 = 36\n"
     ]
    }
   ],
   "source": [
    "# Function to square number\n",
    "def square(x):\n",
    "    return x**2\n",
    "\n",
    "# square of the number\n",
    "def main():\n",
    "    # using lambda\n",
    "    square = lambda x : x ** 2\n",
    "\n",
    "    print(\"-- Help: to close input 'exit' -- \")\n",
    "    while True:\n",
    "        x = input(\"Enter a number: \")\n",
    "        if x == 'exit':\n",
    "            break\n",
    "        print(f\"{int(x)} ^ 2 = {square(int(x))}\")\n",
    "\n",
    "        \n",
    "# run main\n",
    "main()"
   ]
  },
  {
   "cell_type": "code",
   "execution_count": 7,
   "metadata": {},
   "outputs": [
    {
     "name": "stdout",
     "output_type": "stream",
     "text": [
      "Name: Olvar \n",
      "City: Monterrey \n",
      "Hobby: Playing videogames\n"
     ]
    }
   ],
   "source": [
    "# print name, city and hobby in formated way\n",
    "def userDetails(name, city, hobby):\n",
    "    print(f\"Name: {name} \\nCity: {city} \\nHobby: {hobby}\")\n",
    "\n",
    "userDetails(\"Olvar\", \"Monterrey\", \"Playing videogames\")"
   ]
  },
  {
   "cell_type": "code",
   "execution_count": 9,
   "metadata": {},
   "outputs": [
    {
     "name": "stdout",
     "output_type": "stream",
     "text": [
      "a = 10 \tb = 1\n"
     ]
    }
   ],
   "source": [
    "# swap to numbers\n",
    "def swapNumbers(a,b):\n",
    "    return f\"a = {b} \\tb = {a}\"\n",
    "\n",
    "print(swapNumbers(1,10))"
   ]
  },
  {
   "cell_type": "code",
   "execution_count": 11,
   "metadata": {},
   "outputs": [
    {
     "name": "stdout",
     "output_type": "stream",
     "text": [
      "9 is odd\n"
     ]
    }
   ],
   "source": [
    "# even or odd\n",
    "def oddEven(num):\n",
    "    if num%2 == 0:\n",
    "        return f\"{num} is even\"\n",
    "    else:\n",
    "        return f\"{num} is odd\"\n",
    "\n",
    "# test function\n",
    "print(oddEven(9))"
   ]
  },
  {
   "cell_type": "code",
   "execution_count": 13,
   "metadata": {},
   "outputs": [
    {
     "name": "stdout",
     "output_type": "stream",
     "text": [
      "54223\n"
     ]
    }
   ],
   "source": [
    "# reverse number\n",
    "def reverseNum(num):\n",
    "    return int(str(num)[::-1])\n",
    "\n",
    "print(reverseNum(32245))"
   ]
  },
  {
   "cell_type": "code",
   "execution_count": 17,
   "metadata": {},
   "outputs": [
    {
     "name": "stdout",
     "output_type": "stream",
     "text": [
      "76 is not prime.\n"
     ]
    }
   ],
   "source": [
    "# prime function\n",
    "def primeNumber(num):\n",
    "    for i in range(2,num):\n",
    "        if num%i == 0:\n",
    "            return f\"{num} is not prime.\"\n",
    "    return f\"{num} is prime.\"\n",
    "\n",
    "\n",
    "# try function\n",
    "print(primeNumber(76))"
   ]
  },
  {
   "cell_type": "code",
   "execution_count": 21,
   "metadata": {},
   "outputs": [
    {
     "name": "stdout",
     "output_type": "stream",
     "text": [
      "28 is a perfect number\n"
     ]
    }
   ],
   "source": [
    "# perfect number\n",
    "def perfectNumber(num):\n",
    "    divisors = []\n",
    "    # find all divisors\n",
    "    for i in range(1,num+1):\n",
    "        if num%i == 0:\n",
    "            divisors.append(i)\n",
    "    \n",
    "    # check if num is perfect\n",
    "    if num == sum(divisors)//2:\n",
    "        return f\"{num} is a perfect number\"\n",
    "    else:\n",
    "        return f\"{num} is not a perfect number\"\n",
    "\n",
    "\n",
    "# Try function\n",
    "print(perfectNumber(28))"
   ]
  },
  {
   "cell_type": "code",
   "execution_count": 23,
   "metadata": {},
   "outputs": [
    {
     "name": "stdout",
     "output_type": "stream",
     "text": [
      "The factors of 28 are: \n",
      "[1, 2, 4, 7, 14, 28]\n"
     ]
    }
   ],
   "source": [
    "# find all factors\n",
    "def getFactors(num):\n",
    "    factors = []\n",
    "    # find all divisors\n",
    "    for i in range(1,num+1):\n",
    "        if num%i == 0:\n",
    "            factors.append(i)\n",
    "    return f'The factors of {num} are: \\n{factors}'\n",
    "\n",
    "\n",
    "# Try function\n",
    "print(getFactors(28))"
   ]
  },
  {
   "cell_type": "code",
   "execution_count": 25,
   "metadata": {},
   "outputs": [
    {
     "name": "stdout",
     "output_type": "stream",
     "text": [
      "10°C --> 50.0°F\n"
     ]
    }
   ],
   "source": [
    "# celsius to fahrenheit\n",
    "def celFahrenheit(celsius):\n",
    "    fahrenheit = (celsius * 9/5) + 32\n",
    "    return fahrenheit\n",
    "\n",
    "# try function\n",
    "temp = 10\n",
    "print(f\"{temp}°C --> {celFahrenheit(temp)}°F\")"
   ]
  },
  {
   "cell_type": "code",
   "execution_count": 37,
   "metadata": {},
   "outputs": [
    {
     "name": "stdout",
     "output_type": "stream",
     "text": [
      "'nursesrun' is a palindrome.\n"
     ]
    }
   ],
   "source": [
    "#palindrome fun\n",
    "def checkPalindrome(phrase):\n",
    "    word = ''.join(phrase.split(' '))\n",
    "    if word == word[::-1]:\n",
    "        return f\"'{phrase}' is a palindrome.\"\n",
    "    else:\n",
    "        return f\"'{phrase}' is not a palindrome.\"\n",
    "\n",
    "# try function\n",
    "print(checkPalindrome(\"nurses run\"))"
   ]
  },
  {
   "cell_type": "code",
   "execution_count": 35,
   "metadata": {},
   "outputs": [
    {
     "name": "stdout",
     "output_type": "stream",
     "text": [
      "madamornursesrun\n"
     ]
    }
   ],
   "source": [
    "a = 'madam or nurses run'\n",
    "print(''.join(a.split(' ')))"
   ]
  }
 ],
 "metadata": {
  "kernelspec": {
   "display_name": "Python 3.9.7 64-bit",
   "language": "python",
   "name": "python3"
  },
  "language_info": {
   "codemirror_mode": {
    "name": "ipython",
    "version": 3
   },
   "file_extension": ".py",
   "mimetype": "text/x-python",
   "name": "python",
   "nbconvert_exporter": "python",
   "pygments_lexer": "ipython3",
   "version": "3.9.7"
  },
  "orig_nbformat": 4,
  "vscode": {
   "interpreter": {
    "hash": "ef8e66641ffa9f38ae8031a3eed4cd7795c398e85cd67311476beecd9e57b692"
   }
  }
 },
 "nbformat": 4,
 "nbformat_minor": 2
}
