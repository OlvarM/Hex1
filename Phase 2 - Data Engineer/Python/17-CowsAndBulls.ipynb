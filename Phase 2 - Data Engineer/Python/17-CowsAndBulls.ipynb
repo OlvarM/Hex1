{
 "cells": [
  {
   "cell_type": "markdown",
   "metadata": {},
   "source": [
    "# Discussion 17 - Cows and Bulls Game"
   ]
  },
  {
   "cell_type": "code",
   "execution_count": 20,
   "metadata": {},
   "outputs": [
    {
     "name": "stdout",
     "output_type": "stream",
     "text": [
      "Welcome to the Cows and Bulls game!\n",
      "-- Instructions: Guess a 4-digit number. --\n",
      "Cow indicate correct number in correct digit.\n",
      "Bull indicates correct number but wrong digit.\n",
      "6083\n",
      "cows: 0 \t, \tbulls: 1\n",
      "cows: 0 \t, \tbulls: 1\n",
      "cows: 0 \t, \tbulls: 2\n",
      "cows: 0 \t, \tbulls: 3\n",
      "cows: 0 \t, \tbulls: 2\n",
      "cows: 1 \t, \tbulls: 2\n",
      "cows: 2 \t, \tbulls: 1\n",
      "cows: 1 \t, \tbulls: 2\n",
      "cows: 4 \t, \tbulls: 0\n",
      "You correctly guessed: 6083 \n",
      "Number of tries. 10\n"
     ]
    }
   ],
   "source": [
    "# cows and bulls game\n",
    "import random\n",
    "\n",
    "def main():\n",
    "    # Generate random 4 digit number\n",
    "    num = random.randint(1000,9999)\n",
    "\n",
    "    print(F\"Welcome to the Cows and Bulls game!\")\n",
    "    print(\"-- Instructions: Guess a 4-digit number. --\\nCow indicate correct number in correct digit.\\nBull indicates correct number but wrong digit.\")\n",
    "\n",
    "    # print(num)\n",
    "\n",
    "    # keep track of tries\n",
    "    tries = 0\n",
    "    \n",
    "    # Start Game\n",
    "    guess = 0\n",
    "    while guess != num:\n",
    "        guess = int(input(\"Enter a (4-digit) number: \"))\n",
    "        try:\n",
    "            # count bulls\n",
    "            bulls = sum([str(num).count(str(guess)[i]) for i in range(4) if str(guess)[i] in list(set(str(num)))])\n",
    "            # check cows\n",
    "            cows = sum([1 if str(num)[i] == str(guess)[i] else 0 for i in range(4)])\n",
    "            \n",
    "            # print results\n",
    "            print(F\"cows: {cows} \\t, \\tbulls: {bulls-cows}\")\n",
    "\n",
    "            # tries +1\n",
    "            tries += 1\n",
    "        except:\n",
    "            print(\"Wrong input, guess again...\")\n",
    "\n",
    "    # win and total tries\n",
    "    print(f\"You correctly guessed: {num} \\nNumber of tries: {tries}\")\n",
    "\n",
    "\n",
    "\n",
    "# run main\n",
    "if __name__ == \"__main__\":\n",
    "    main()"
   ]
  },
  {
   "cell_type": "code",
   "execution_count": 17,
   "metadata": {},
   "outputs": [
    {
     "name": "stdout",
     "output_type": "stream",
     "text": [
      "['1', '2', '3', '4']\n"
     ]
    }
   ],
   "source": [
    "num = 1234\n",
    "print(list(str(num)))"
   ]
  }
 ],
 "metadata": {
  "kernelspec": {
   "display_name": "Python 3.10.7 64-bit",
   "language": "python",
   "name": "python3"
  },
  "language_info": {
   "codemirror_mode": {
    "name": "ipython",
    "version": 3
   },
   "file_extension": ".py",
   "mimetype": "text/x-python",
   "name": "python",
   "nbconvert_exporter": "python",
   "pygments_lexer": "ipython3",
   "version": "3.10.7"
  },
  "orig_nbformat": 4,
  "vscode": {
   "interpreter": {
    "hash": "ba288ba8dcaeb6414279117d77e0b2fa844cb9296c146f4d786ad8b9ed202e4d"
   }
  }
 },
 "nbformat": 4,
 "nbformat_minor": 2
}
